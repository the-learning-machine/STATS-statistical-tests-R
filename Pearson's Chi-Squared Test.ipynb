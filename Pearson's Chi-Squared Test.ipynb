{
 "cells": [
  {
   "cell_type": "markdown",
   "metadata": {},
   "source": [
    "# Pearson's Chi-Squared Test"
   ]
  },
  {
   "cell_type": "markdown",
   "metadata": {},
   "source": [
    "There is a nice built-in function in R to conduct the Pearson's Chi-Squared Test. In this write up we will demonstrate using this built-in function, as well as performing the test by calculating each step of the test. Before we start, let's try to replicate the gender vs trouble status data from the article."
   ]
  },
  {
   "cell_type": "code",
   "execution_count": 1,
   "metadata": {},
   "outputs": [
    {
     "name": "stdout",
     "output_type": "stream",
     "text": [
      "       trouble\n",
      "gender  no trouble trouble\n",
      "  boys          71      46\n",
      "  girls         83      37\n"
     ]
    }
   ],
   "source": [
    "gender = c(replicate(117, 'boys'), replicate(120, 'girls'))\n",
    "trouble = c(replicate(46, 'trouble'), replicate(71, 'no trouble'), replicate(37, 'trouble'), replicate(83, 'no trouble'))\n",
    "o.table = table(gender, trouble)\n",
    "print(o.table)"
   ]
  },
  {
   "cell_type": "markdown",
   "metadata": {},
   "source": [
    "## Using Built-in Function"
   ]
  },
  {
   "cell_type": "code",
   "execution_count": 2,
   "metadata": {},
   "outputs": [
    {
     "name": "stdout",
     "output_type": "stream",
     "text": [
      "\n",
      "\tPearson's Chi-squared test\n",
      "\n",
      "data:  gender and trouble\n",
      "X-squared = 1.8733, df = 1, p-value = 0.1711\n",
      "\n"
     ]
    }
   ],
   "source": [
    "xsq.test = chisq.test(gender, trouble, correct = FALSE)\n",
    "print(xsq.test)\n",
    "#xsq.test = chisq.test(o.table, correct = FALSE) #Inputting the data as a contingency table"
   ]
  },
  {
   "cell_type": "markdown",
   "metadata": {},
   "source": [
    "There are two options of inputting the data into the `chisq.test` function. We can either input the two variables into the function (the `x=` and `y=` arguments), or simply supply the contingency table of the two variables (the variables `tbl` above). If `correct = TRUE`, the test will apply the Yates' correction for continuity. "
   ]
  },
  {
   "cell_type": "markdown",
   "metadata": {},
   "source": [
    "We can also extract the different outputs from the results of the `chisq.test` function. Suppose our input data is simply the two vectors of variables, and we are interested in obtaining the contingency tables. Instead of doing an extra step using the `table()` function, we can extract it directly from the output of the test."
   ]
  },
  {
   "cell_type": "code",
   "execution_count": 3,
   "metadata": {},
   "outputs": [
    {
     "data": {
      "text/plain": [
       "       trouble\n",
       "gender  no trouble trouble\n",
       "  boys          71      46\n",
       "  girls         83      37"
      ]
     },
     "metadata": {},
     "output_type": "display_data"
    },
    {
     "data": {
      "text/html": [
       "<table>\n",
       "<thead><tr><th></th><th scope=col>no trouble</th><th scope=col>trouble</th></tr></thead>\n",
       "<tbody>\n",
       "\t<tr><th scope=row>boys</th><td>76.02532</td><td>40.97468</td></tr>\n",
       "\t<tr><th scope=row>girls</th><td>77.97468</td><td>42.02532</td></tr>\n",
       "</tbody>\n",
       "</table>\n"
      ],
      "text/latex": [
       "\\begin{tabular}{r|ll}\n",
       "  & no trouble & trouble\\\\\n",
       "\\hline\n",
       "\tboys & 76.02532 & 40.97468\\\\\n",
       "\tgirls & 77.97468 & 42.02532\\\\\n",
       "\\end{tabular}\n"
      ],
      "text/markdown": [
       "\n",
       "| <!--/--> | no trouble | trouble | \n",
       "|---|---|\n",
       "| boys | 76.02532 | 40.97468 | \n",
       "| girls | 77.97468 | 42.02532 | \n",
       "\n",
       "\n"
      ],
      "text/plain": [
       "       trouble\n",
       "gender  no trouble trouble \n",
       "  boys  76.02532   40.97468\n",
       "  girls 77.97468   42.02532"
      ]
     },
     "metadata": {},
     "output_type": "display_data"
    },
    {
     "data": {
      "text/html": [
       "<strong>X-squared:</strong> 1.87329402525185"
      ],
      "text/latex": [
       "\\textbf{X-squared:} 1.87329402525185"
      ],
      "text/markdown": [
       "**X-squared:** 1.87329402525185"
      ],
      "text/plain": [
       "X-squared \n",
       " 1.873294 "
      ]
     },
     "metadata": {},
     "output_type": "display_data"
    },
    {
     "data": {
      "text/html": [
       "<strong>df:</strong> 1"
      ],
      "text/latex": [
       "\\textbf{df:} 1"
      ],
      "text/markdown": [
       "**df:** 1"
      ],
      "text/plain": [
       "df \n",
       " 1 "
      ]
     },
     "metadata": {},
     "output_type": "display_data"
    },
    {
     "data": {
      "text/html": [
       "0.171098287072686"
      ],
      "text/latex": [
       "0.171098287072686"
      ],
      "text/markdown": [
       "0.171098287072686"
      ],
      "text/plain": [
       "[1] 0.1710983"
      ]
     },
     "metadata": {},
     "output_type": "display_data"
    }
   ],
   "source": [
    "xsq.test$observed   # observed counts (same as o.table above)\n",
    "xsq.test$expected   # expected counts under the null\n",
    "xsq.test$statistic  # test statistics\n",
    "xsq.test$parameter  # the degrees of freedom\n",
    "xsq.test$p.value    # p-value"
   ]
  },
  {
   "cell_type": "markdown",
   "metadata": {},
   "source": [
    "## Using Basic Calculations\n",
    "Even though the built-in function is simple to use, going through the basic calculations allow us to gain a deeper understanding of the testing procedure. Recall that the test statistics for the Pearson's Chi-Squared Test is\n",
    "$$\\chi^2 = \\sum{\\frac{{(observed - expected)}^2}{expected}}$$\n",
    "\n",
    "where observed is the observed counts, and expected is the expected counts (when the two variables are independent). We can also express this formula using the joint probabilities:\n",
    "$$\\chi^2 = \\sum N \\frac{(observed.p - expected.p)^2}{expected.p}$$\n",
    "\n",
    "where observed.p is the observed joint probability, expected.p is the expected joint probability, and N is the total count (refer to the article for more information)."
   ]
  },
  {
   "cell_type": "code",
   "execution_count": 4,
   "metadata": {},
   "outputs": [
    {
     "name": "stdout",
     "output_type": "stream",
     "text": [
      "       trouble\n",
      "gender  no trouble trouble\n",
      "  boys          71      46\n",
      "  girls         83      37\n"
     ]
    }
   ],
   "source": [
    "gender.prob = table(gender)/length(gender)\n",
    "trouble.prob = table(trouble)/length(trouble)\n",
    "e.table = matrix(0, nrow = length(gender.prob), ncol = length(trouble.prob))\n",
    "for(i in 1:length(gender.prob)){ #Create expected count table\n",
    "  for(j in 1:length(trouble.prob)){\n",
    "    e.table[i,j] = gender.prob[i] * trouble.prob[j] * length(gender)\n",
    "  }\n",
    "}\n",
    "colnames(e.table) = c('no trouble', 'trouble')\n",
    "rownames(e.table) = c('boys', 'girls')\n",
    "print(o.table)"
   ]
  },
  {
   "cell_type": "code",
   "execution_count": 5,
   "metadata": {},
   "outputs": [
    {
     "name": "stdout",
     "output_type": "stream",
     "text": [
      "      no trouble  trouble\n",
      "boys    76.02532 40.97468\n",
      "girls   77.97468 42.02532\n"
     ]
    }
   ],
   "source": [
    "print(e.table) #Compare this with the output extracted above"
   ]
  },
  {
   "cell_type": "code",
   "execution_count": 6,
   "metadata": {},
   "outputs": [
    {
     "name": "stdout",
     "output_type": "stream",
     "text": [
      "[1] 1.873294\n"
     ]
    }
   ],
   "source": [
    "test.stat = sum((o.table - e.table)^2/e.table) #The test statistics\n",
    "print(test.stat)"
   ]
  },
  {
   "cell_type": "markdown",
   "metadata": {},
   "source": [
    "For the Pearson's Chi-Square test, we assume the test statistics has a $\\chi^2$ distribution with degrees of freedom (c-1)(r-1). The critical value (assume $\\alpha = 0.05$) can be found by using the following command:"
   ]
  },
  {
   "cell_type": "code",
   "execution_count": 7,
   "metadata": {},
   "outputs": [
    {
     "name": "stdout",
     "output_type": "stream",
     "text": [
      "[1] 3.841459\n"
     ]
    }
   ],
   "source": [
    "crit.val = qchisq(p = 0.95, df = 1)\n",
    "print(crit.val)"
   ]
  },
  {
   "cell_type": "markdown",
   "metadata": {},
   "source": [
    "Since the test statistics is less than the critical value, we failed to reject the null hypothesis. The p-value can be calculated by"
   ]
  },
  {
   "cell_type": "code",
   "execution_count": 8,
   "metadata": {},
   "outputs": [
    {
     "data": {
      "text/html": [
       "0.171098287072685"
      ],
      "text/latex": [
       "0.171098287072685"
      ],
      "text/markdown": [
       "0.171098287072685"
      ],
      "text/plain": [
       "[1] 0.1710983"
      ]
     },
     "metadata": {},
     "output_type": "display_data"
    }
   ],
   "source": [
    "pchisq(q = test.stat, df = 1 , lower.tail = F)"
   ]
  },
  {
   "cell_type": "markdown",
   "metadata": {},
   "source": [
    "The p-value is larger than $\\alpha = 0.05$, hence we fail to reject the null hypothesis."
   ]
  }
 ],
 "metadata": {
  "kernelspec": {
   "display_name": "R",
   "language": "R",
   "name": "ir"
  },
  "language_info": {
   "codemirror_mode": "r",
   "file_extension": ".r",
   "mimetype": "text/x-r-source",
   "name": "R",
   "pygments_lexer": "r",
   "version": "3.5.1"
  }
 },
 "nbformat": 4,
 "nbformat_minor": 2
}
